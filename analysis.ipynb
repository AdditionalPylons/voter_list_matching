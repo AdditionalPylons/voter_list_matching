{
 "cells": [
  {
   "cell_type": "code",
   "execution_count": 1,
   "metadata": {},
   "outputs": [],
   "source": [
    "import pandas as pd"
   ]
  },
  {
   "cell_type": "code",
   "execution_count": 7,
   "metadata": {},
   "outputs": [],
   "source": [
    "### Data setup\n",
    "\n",
    "protested_voters_path = \"all_extracted_ncids.csv\"\n",
    "full_roster_path =  \"untracked_large_files/ncvhis_Statewide.csv\"\n",
    "\n",
    "protested = pd.read_csv(protested_voters_path)\n",
    "deduped = protested.drop_duplicates(subset='ncid')"
   ]
  },
  {
   "cell_type": "code",
   "execution_count": 9,
   "metadata": {},
   "outputs": [],
   "source": [
    "matches = []\n",
    "\n",
    "# Chunk data to avoid memory issues\n",
    "for chunk in pd.read_csv(full_roster_path, chunksize=100_000, delimiter='\\t', on_bad_lines='skip'):\n",
    "    matched_chunk = chunk.merge(deduped, how='inner', on='ncid')\n",
    "    \n",
    "    if not matched_chunk.empty:\n",
    "        matches.append(matched_chunk)\n",
    "\n",
    "final_matches = pd.concat(matches, ignore_index=True)"
   ]
  },
  {
   "cell_type": "code",
   "execution_count": 11,
   "metadata": {},
   "outputs": [
    {
     "data": {
      "text/html": [
       "<div>\n",
       "<style scoped>\n",
       "    .dataframe tbody tr th:only-of-type {\n",
       "        vertical-align: middle;\n",
       "    }\n",
       "\n",
       "    .dataframe tbody tr th {\n",
       "        vertical-align: top;\n",
       "    }\n",
       "\n",
       "    .dataframe thead th {\n",
       "        text-align: right;\n",
       "    }\n",
       "</style>\n",
       "<table border=\"1\" class=\"dataframe\">\n",
       "  <thead>\n",
       "    <tr style=\"text-align: right;\">\n",
       "      <th></th>\n",
       "      <th>county_id</th>\n",
       "      <th>county_desc</th>\n",
       "      <th>voter_reg_num</th>\n",
       "      <th>election_lbl</th>\n",
       "      <th>election_desc</th>\n",
       "      <th>voting_method</th>\n",
       "      <th>voted_party_cd</th>\n",
       "      <th>voted_party_desc</th>\n",
       "      <th>pct_label</th>\n",
       "      <th>pct_description</th>\n",
       "      <th>ncid</th>\n",
       "      <th>voted_county_id</th>\n",
       "      <th>voted_county_desc</th>\n",
       "      <th>vtd_label</th>\n",
       "      <th>vtd_description</th>\n",
       "      <th>filename</th>\n",
       "      <th>page</th>\n",
       "    </tr>\n",
       "  </thead>\n",
       "  <tbody>\n",
       "    <tr>\n",
       "      <th>0</th>\n",
       "      <td>41</td>\n",
       "      <td>GUILFORD</td>\n",
       "      <td>10344626</td>\n",
       "      <td>11/08/2016</td>\n",
       "      <td>11/08/2016 GENERAL</td>\n",
       "      <td>ABSENTEE BY MAIL</td>\n",
       "      <td>REP</td>\n",
       "      <td>REPUBLICAN</td>\n",
       "      <td>CG1</td>\n",
       "      <td>CG1</td>\n",
       "      <td>BY52907</td>\n",
       "      <td>41</td>\n",
       "      <td>GUILFORD</td>\n",
       "      <td>CG1</td>\n",
       "      <td>CG1</td>\n",
       "      <td>Guilford%20-%20Griffin%20-%20Incomplete%20Reg%...</td>\n",
       "      <td>21</td>\n",
       "    </tr>\n",
       "    <tr>\n",
       "      <th>1</th>\n",
       "      <td>41</td>\n",
       "      <td>GUILFORD</td>\n",
       "      <td>10344626</td>\n",
       "      <td>03/15/2016</td>\n",
       "      <td>03/15/2016 PRIMARY</td>\n",
       "      <td>ABSENTEE ONESTOP</td>\n",
       "      <td>REP</td>\n",
       "      <td>REPUBLICAN</td>\n",
       "      <td>H29B</td>\n",
       "      <td>H29B</td>\n",
       "      <td>BY52907</td>\n",
       "      <td>41</td>\n",
       "      <td>GUILFORD</td>\n",
       "      <td>HP</td>\n",
       "      <td>HP</td>\n",
       "      <td>Guilford%20-%20Griffin%20-%20Incomplete%20Reg%...</td>\n",
       "      <td>21</td>\n",
       "    </tr>\n",
       "    <tr>\n",
       "      <th>2</th>\n",
       "      <td>41</td>\n",
       "      <td>GUILFORD</td>\n",
       "      <td>10344626</td>\n",
       "      <td>06/07/2016</td>\n",
       "      <td>06/07/2016 CONGRESSIONAL PRIMARY</td>\n",
       "      <td>ELECTION DAY IN-PERSON</td>\n",
       "      <td>REP</td>\n",
       "      <td>REPUBLICAN</td>\n",
       "      <td>CG1</td>\n",
       "      <td>CG1</td>\n",
       "      <td>BY52907</td>\n",
       "      <td>41</td>\n",
       "      <td>GUILFORD</td>\n",
       "      <td>CG1</td>\n",
       "      <td>CG1</td>\n",
       "      <td>Guilford%20-%20Griffin%20-%20Incomplete%20Reg%...</td>\n",
       "      <td>21</td>\n",
       "    </tr>\n",
       "    <tr>\n",
       "      <th>3</th>\n",
       "      <td>41</td>\n",
       "      <td>GUILFORD</td>\n",
       "      <td>10344626</td>\n",
       "      <td>03/03/2020</td>\n",
       "      <td>03/03/2020 PRIMARY</td>\n",
       "      <td>ABSENTEE ONESTOP</td>\n",
       "      <td>REP</td>\n",
       "      <td>REPUBLICAN</td>\n",
       "      <td>061</td>\n",
       "      <td>061</td>\n",
       "      <td>BY52907</td>\n",
       "      <td>34</td>\n",
       "      <td>FORSYTH</td>\n",
       "      <td>061</td>\n",
       "      <td>061</td>\n",
       "      <td>Guilford%20-%20Griffin%20-%20Incomplete%20Reg%...</td>\n",
       "      <td>21</td>\n",
       "    </tr>\n",
       "    <tr>\n",
       "      <th>4</th>\n",
       "      <td>41</td>\n",
       "      <td>GUILFORD</td>\n",
       "      <td>10344626</td>\n",
       "      <td>05/08/2018</td>\n",
       "      <td>05/08/2018 PRIMARY</td>\n",
       "      <td>ABSENTEE ONESTOP</td>\n",
       "      <td>REP</td>\n",
       "      <td>REPUBLICAN</td>\n",
       "      <td>061</td>\n",
       "      <td>061</td>\n",
       "      <td>BY52907</td>\n",
       "      <td>34</td>\n",
       "      <td>FORSYTH</td>\n",
       "      <td>061</td>\n",
       "      <td>061</td>\n",
       "      <td>Guilford%20-%20Griffin%20-%20Incomplete%20Reg%...</td>\n",
       "      <td>21</td>\n",
       "    </tr>\n",
       "  </tbody>\n",
       "</table>\n",
       "</div>"
      ],
      "text/plain": [
       "   county_id county_desc  voter_reg_num election_lbl  \\\n",
       "0         41    GUILFORD       10344626   11/08/2016   \n",
       "1         41    GUILFORD       10344626   03/15/2016   \n",
       "2         41    GUILFORD       10344626   06/07/2016   \n",
       "3         41    GUILFORD       10344626   03/03/2020   \n",
       "4         41    GUILFORD       10344626   05/08/2018   \n",
       "\n",
       "                      election_desc           voting_method voted_party_cd  \\\n",
       "0                11/08/2016 GENERAL        ABSENTEE BY MAIL            REP   \n",
       "1                03/15/2016 PRIMARY        ABSENTEE ONESTOP            REP   \n",
       "2  06/07/2016 CONGRESSIONAL PRIMARY  ELECTION DAY IN-PERSON            REP   \n",
       "3                03/03/2020 PRIMARY        ABSENTEE ONESTOP            REP   \n",
       "4                05/08/2018 PRIMARY        ABSENTEE ONESTOP            REP   \n",
       "\n",
       "  voted_party_desc pct_label pct_description     ncid  voted_county_id  \\\n",
       "0       REPUBLICAN       CG1             CG1  BY52907               41   \n",
       "1       REPUBLICAN      H29B            H29B  BY52907               41   \n",
       "2       REPUBLICAN       CG1             CG1  BY52907               41   \n",
       "3       REPUBLICAN       061             061  BY52907               34   \n",
       "4       REPUBLICAN       061             061  BY52907               34   \n",
       "\n",
       "  voted_county_desc vtd_label vtd_description  \\\n",
       "0          GUILFORD       CG1             CG1   \n",
       "1          GUILFORD        HP              HP   \n",
       "2          GUILFORD       CG1             CG1   \n",
       "3           FORSYTH       061             061   \n",
       "4           FORSYTH       061             061   \n",
       "\n",
       "                                            filename  page  \n",
       "0  Guilford%20-%20Griffin%20-%20Incomplete%20Reg%...    21  \n",
       "1  Guilford%20-%20Griffin%20-%20Incomplete%20Reg%...    21  \n",
       "2  Guilford%20-%20Griffin%20-%20Incomplete%20Reg%...    21  \n",
       "3  Guilford%20-%20Griffin%20-%20Incomplete%20Reg%...    21  \n",
       "4  Guilford%20-%20Griffin%20-%20Incomplete%20Reg%...    21  "
      ]
     },
     "execution_count": 11,
     "metadata": {},
     "output_type": "execute_result"
    }
   ],
   "source": [
    "final_matches.head()"
   ]
  },
  {
   "cell_type": "code",
   "execution_count": 10,
   "metadata": {},
   "outputs": [
    {
     "data": {
      "text/plain": [
       "239478"
      ]
     },
     "execution_count": 10,
     "metadata": {},
     "output_type": "execute_result"
    }
   ],
   "source": [
    "final_matches.shape[0]"
   ]
  },
  {
   "cell_type": "code",
   "execution_count": 13,
   "metadata": {},
   "outputs": [
    {
     "data": {
      "text/plain": [
       "61123"
      ]
     },
     "execution_count": 13,
     "metadata": {},
     "output_type": "execute_result"
    }
   ],
   "source": [
    "matches_deduped = final_matches.drop_duplicates(subset='ncid')\n",
    "matches_deduped.shape[0]"
   ]
  },
  {
   "cell_type": "code",
   "execution_count": 12,
   "metadata": {},
   "outputs": [],
   "source": [
    "final_matches.to_csv(\"final_matches.csv\")"
   ]
  },
  {
   "cell_type": "code",
   "execution_count": 14,
   "metadata": {},
   "outputs": [],
   "source": [
    "matches_deduped.to_csv(\"matches_deduped.csv\")"
   ]
  }
 ],
 "metadata": {
  "kernelspec": {
   "display_name": "base",
   "language": "python",
   "name": "python3"
  },
  "language_info": {
   "codemirror_mode": {
    "name": "ipython",
    "version": 3
   },
   "file_extension": ".py",
   "mimetype": "text/x-python",
   "name": "python",
   "nbconvert_exporter": "python",
   "pygments_lexer": "ipython3",
   "version": "3.8.13"
  }
 },
 "nbformat": 4,
 "nbformat_minor": 2
}
